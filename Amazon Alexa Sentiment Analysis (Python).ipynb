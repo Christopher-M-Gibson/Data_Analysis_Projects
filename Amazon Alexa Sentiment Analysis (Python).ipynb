{
 "cells": [
  {
   "cell_type": "markdown",
   "id": "8cd02c69",
   "metadata": {},
   "source": [
    "# Part 1: Import Libraries and Data"
   ]
  },
  {
   "cell_type": "code",
   "execution_count": 1,
   "id": "4f105914",
   "metadata": {},
   "outputs": [],
   "source": [
    "# Import libraries\n",
    "import pandas as pd\n",
    "import seaborn as sns\n",
    "import numpy as np\n",
    "import matplotlib\n",
    "import matplotlib.pyplot as plt\n",
    "plt.style.use('ggplot')\n",
    "import re\n",
    "from nltk.corpus import stopwords\n",
    "from nltk.sentiment.vader import SentimentIntensityAnalyzer\n",
    "sentiments = SentimentIntensityAnalyzer()\n",
    "\n",
    "# Adjust configuration of created plots\n",
    "%matplotlib inline\n",
    "matplotlib.rcParams['figure.figsize'] = (12,8)\n",
    "\n",
    "# Change display options\n",
    "pd.set_option('display.max_rows', None)"
   ]
  },
  {
   "cell_type": "code",
   "execution_count": 2,
   "id": "21dfeb39",
   "metadata": {},
   "outputs": [],
   "source": [
    "# Read in the data\n",
    "df = pd.read_csv(r'C:\\Users\\msgib\\OneDrive\\Documents\\Data Analysis\\Amazon_Alexa_Reviews.csv')"
   ]
  },
  {
   "cell_type": "markdown",
   "id": "7127575f",
   "metadata": {},
   "source": [
    "# Part 2: Cleaning the Data"
   ]
  },
  {
   "cell_type": "code",
   "execution_count": 3,
   "id": "23a21704",
   "metadata": {},
   "outputs": [
    {
     "data": {
      "text/html": [
       "<div>\n",
       "<style scoped>\n",
       "    .dataframe tbody tr th:only-of-type {\n",
       "        vertical-align: middle;\n",
       "    }\n",
       "\n",
       "    .dataframe tbody tr th {\n",
       "        vertical-align: top;\n",
       "    }\n",
       "\n",
       "    .dataframe thead th {\n",
       "        text-align: right;\n",
       "    }\n",
       "</style>\n",
       "<table border=\"1\" class=\"dataframe\">\n",
       "  <thead>\n",
       "    <tr style=\"text-align: right;\">\n",
       "      <th></th>\n",
       "      <th>rating</th>\n",
       "      <th>date</th>\n",
       "      <th>variation</th>\n",
       "      <th>verified_reviews</th>\n",
       "      <th>feedback</th>\n",
       "    </tr>\n",
       "  </thead>\n",
       "  <tbody>\n",
       "    <tr>\n",
       "      <th>0</th>\n",
       "      <td>5</td>\n",
       "      <td>31-Jul-18</td>\n",
       "      <td>Charcoal Fabric</td>\n",
       "      <td>Love my Echo!</td>\n",
       "      <td>1</td>\n",
       "    </tr>\n",
       "    <tr>\n",
       "      <th>1</th>\n",
       "      <td>5</td>\n",
       "      <td>31-Jul-18</td>\n",
       "      <td>Charcoal Fabric</td>\n",
       "      <td>Loved it!</td>\n",
       "      <td>1</td>\n",
       "    </tr>\n",
       "    <tr>\n",
       "      <th>2</th>\n",
       "      <td>4</td>\n",
       "      <td>31-Jul-18</td>\n",
       "      <td>Walnut Finish</td>\n",
       "      <td>Sometimes while playing a game, you can answer...</td>\n",
       "      <td>1</td>\n",
       "    </tr>\n",
       "    <tr>\n",
       "      <th>3</th>\n",
       "      <td>5</td>\n",
       "      <td>31-Jul-18</td>\n",
       "      <td>Charcoal Fabric</td>\n",
       "      <td>I have had a lot of fun with this thing. My 4 ...</td>\n",
       "      <td>1</td>\n",
       "    </tr>\n",
       "    <tr>\n",
       "      <th>4</th>\n",
       "      <td>5</td>\n",
       "      <td>31-Jul-18</td>\n",
       "      <td>Charcoal Fabric</td>\n",
       "      <td>Music</td>\n",
       "      <td>1</td>\n",
       "    </tr>\n",
       "  </tbody>\n",
       "</table>\n",
       "</div>"
      ],
      "text/plain": [
       "    rating       date         variation  \\\n",
       "0        5  31-Jul-18  Charcoal Fabric    \n",
       "1        5  31-Jul-18  Charcoal Fabric    \n",
       "2        4  31-Jul-18    Walnut Finish    \n",
       "3        5  31-Jul-18  Charcoal Fabric    \n",
       "4        5  31-Jul-18  Charcoal Fabric    \n",
       "\n",
       "                                    verified_reviews  feedback  \n",
       "0                                      Love my Echo!         1  \n",
       "1                                          Loved it!         1  \n",
       "2  Sometimes while playing a game, you can answer...         1  \n",
       "3  I have had a lot of fun with this thing. My 4 ...         1  \n",
       "4                                              Music         1  "
      ]
     },
     "execution_count": 3,
     "metadata": {},
     "output_type": "execute_result"
    }
   ],
   "source": [
    "# Observe the first few rows of the data\n",
    "df.head()"
   ]
  },
  {
   "cell_type": "code",
   "execution_count": 4,
   "id": "a0c4a971",
   "metadata": {},
   "outputs": [
    {
     "name": "stdout",
     "output_type": "stream",
     "text": [
      " rating - 0.0%\n",
      "date - 0.0%\n",
      "variation - 0.0%\n",
      "verified_reviews - 0.0%\n",
      "feedback - 0.0%\n"
     ]
    }
   ],
   "source": [
    "# Observe if there is missing data\n",
    "for col in df.columns:\n",
    "    pct_missing = np.mean(df[col].isnull())\n",
    "    print('{} - {}%'.format(col, pct_missing))"
   ]
  },
  {
   "cell_type": "code",
   "execution_count": 5,
   "id": "991963b9",
   "metadata": {},
   "outputs": [
    {
     "data": {
      "text/plain": [
       " rating                5\n",
       "date                  77\n",
       "variation             16\n",
       "verified_reviews    2301\n",
       "feedback               2\n",
       "dtype: int64"
      ]
     },
     "execution_count": 5,
     "metadata": {},
     "output_type": "execute_result"
    }
   ],
   "source": [
    "# Check unique amount of variations\n",
    "df.nunique()"
   ]
  },
  {
   "cell_type": "code",
   "execution_count": 6,
   "id": "133ce4c5",
   "metadata": {},
   "outputs": [
    {
     "data": {
      "text/plain": [
       " rating              int64\n",
       "date                object\n",
       "variation           object\n",
       "verified_reviews    object\n",
       "feedback             int64\n",
       "dtype: object"
      ]
     },
     "execution_count": 6,
     "metadata": {},
     "output_type": "execute_result"
    }
   ],
   "source": [
    "# Check each column's data type\n",
    "df.dtypes"
   ]
  },
  {
   "cell_type": "code",
   "execution_count": 7,
   "id": "382df5cb",
   "metadata": {},
   "outputs": [],
   "source": [
    "# Clean the verified_reviews column \n",
    "wordList = stopwords.words(\"english\")\n",
    "\n",
    "def clean(sentence):\n",
    "    sentence = sentence.lower()\n",
    "    sentence = re.sub(\"[^\\w\\d]\",\" \", sentence)\n",
    "    sentence = \" \".join([i for i in sentence.split() if i not in wordList])\n",
    "    return sentence\n",
    "\n",
    "df['cleaned_review'] = df['verified_reviews'].apply(lambda sentence : clean(sentence))"
   ]
  },
  {
   "cell_type": "code",
   "execution_count": 8,
   "id": "c04c6ca8",
   "metadata": {},
   "outputs": [],
   "source": [
    "# Drop unnecessary columns\n",
    "df.drop(columns=['date', 'variation', 'feedback'], inplace = True)"
   ]
  },
  {
   "cell_type": "code",
   "execution_count": 9,
   "id": "254e891c",
   "metadata": {},
   "outputs": [],
   "source": [
    "# Rename the rating column\n",
    "df.rename(columns = {' rating':'rating'}, inplace = True)"
   ]
  },
  {
   "cell_type": "code",
   "execution_count": 10,
   "id": "44b52de1",
   "metadata": {
    "scrolled": true
   },
   "outputs": [
    {
     "data": {
      "text/html": [
       "<div>\n",
       "<style scoped>\n",
       "    .dataframe tbody tr th:only-of-type {\n",
       "        vertical-align: middle;\n",
       "    }\n",
       "\n",
       "    .dataframe tbody tr th {\n",
       "        vertical-align: top;\n",
       "    }\n",
       "\n",
       "    .dataframe thead th {\n",
       "        text-align: right;\n",
       "    }\n",
       "</style>\n",
       "<table border=\"1\" class=\"dataframe\">\n",
       "  <thead>\n",
       "    <tr style=\"text-align: right;\">\n",
       "      <th></th>\n",
       "      <th>rating</th>\n",
       "      <th>verified_reviews</th>\n",
       "      <th>cleaned_review</th>\n",
       "    </tr>\n",
       "  </thead>\n",
       "  <tbody>\n",
       "    <tr>\n",
       "      <th>0</th>\n",
       "      <td>5</td>\n",
       "      <td>Love my Echo!</td>\n",
       "      <td>love echo</td>\n",
       "    </tr>\n",
       "    <tr>\n",
       "      <th>1</th>\n",
       "      <td>5</td>\n",
       "      <td>Loved it!</td>\n",
       "      <td>loved</td>\n",
       "    </tr>\n",
       "    <tr>\n",
       "      <th>2</th>\n",
       "      <td>4</td>\n",
       "      <td>Sometimes while playing a game, you can answer...</td>\n",
       "      <td>sometimes playing game answer question correct...</td>\n",
       "    </tr>\n",
       "    <tr>\n",
       "      <th>3</th>\n",
       "      <td>5</td>\n",
       "      <td>I have had a lot of fun with this thing. My 4 ...</td>\n",
       "      <td>lot fun thing 4 yr old learns dinosaurs contro...</td>\n",
       "    </tr>\n",
       "    <tr>\n",
       "      <th>4</th>\n",
       "      <td>5</td>\n",
       "      <td>Music</td>\n",
       "      <td>music</td>\n",
       "    </tr>\n",
       "  </tbody>\n",
       "</table>\n",
       "</div>"
      ],
      "text/plain": [
       "   rating                                   verified_reviews  \\\n",
       "0       5                                      Love my Echo!   \n",
       "1       5                                          Loved it!   \n",
       "2       4  Sometimes while playing a game, you can answer...   \n",
       "3       5  I have had a lot of fun with this thing. My 4 ...   \n",
       "4       5                                              Music   \n",
       "\n",
       "                                      cleaned_review  \n",
       "0                                          love echo  \n",
       "1                                              loved  \n",
       "2  sometimes playing game answer question correct...  \n",
       "3  lot fun thing 4 yr old learns dinosaurs contro...  \n",
       "4                                              music  "
      ]
     },
     "execution_count": 10,
     "metadata": {},
     "output_type": "execute_result"
    }
   ],
   "source": [
    "# View the clean(er) dataset\n",
    "df.head()"
   ]
  },
  {
   "cell_type": "markdown",
   "id": "0b97a080",
   "metadata": {},
   "source": [
    "# Part 3: Exploratory/Descriptive Analysis on Ratings and Reviews"
   ]
  },
  {
   "cell_type": "code",
   "execution_count": 11,
   "id": "e899e320",
   "metadata": {},
   "outputs": [
    {
     "data": {
      "text/plain": [
       "25.74825396825397"
      ]
     },
     "execution_count": 11,
     "metadata": {},
     "output_type": "execute_result"
    }
   ],
   "source": [
    "# Determine the average length of a review\n",
    "avg_len = np.mean(df['verified_reviews'].apply(lambda x: len([words for words in x.split(\" \") if isinstance(x, str)])))\n",
    "avg_len"
   ]
  },
  {
   "cell_type": "markdown",
   "id": "a8fa6127",
   "metadata": {},
   "source": [
    "Observation: The average length of a review is ~26 words. This shows that people care enough about the product to take the time to write a relatively long review."
   ]
  },
  {
   "cell_type": "code",
   "execution_count": 12,
   "id": "daef9f95",
   "metadata": {},
   "outputs": [
    {
     "data": {
      "text/plain": [
       "4.463174603174603"
      ]
     },
     "execution_count": 12,
     "metadata": {},
     "output_type": "execute_result"
    }
   ],
   "source": [
    "# Determine the average rating given to the product\n",
    "avrate = df['rating'].mean()\n",
    "avrate"
   ]
  },
  {
   "cell_type": "markdown",
   "id": "b278b941",
   "metadata": {},
   "source": [
    "Observation: The average rating is roughly 4.46/5, which suggests that people are very satisfied with the product"
   ]
  },
  {
   "cell_type": "code",
   "execution_count": 13,
   "id": "b5f9033a",
   "metadata": {},
   "outputs": [
    {
     "name": "stdout",
     "output_type": "stream",
     "text": [
      "5    2286\n",
      "4     455\n",
      "1     161\n",
      "3     152\n",
      "2      96\n",
      "Name: rating, dtype: int64\n"
     ]
    }
   ],
   "source": [
    "# Observe how many of each rating was used\n",
    "ratings = df['rating'].value_counts()\n",
    "print(ratings)"
   ]
  },
  {
   "cell_type": "code",
   "execution_count": 14,
   "id": "aadd6e1a",
   "metadata": {},
   "outputs": [
    {
     "data": {
      "image/png": "[encoded data removed]",
      "text/plain": [
       "<Figure size 864x576 with 1 Axes>"
      ]
     },
     "metadata": {},
     "output_type": "display_data"
    }
   ],
   "source": [
    "# Create a donut chart illustrating the amount of each rating used\n",
    "numbers = ratings.index\n",
    "amount = ratings.values\n",
    "\n",
    "colorList = [\"darkgreen\", \"lightgreen\", \"red\", \"yellow\", \"orange\"]\n",
    "plt.pie(amount, labels = numbers, colors = colorList)\n",
    "center = plt.Circle((0,0), 0.5, color = 'white')\n",
    "figure = plt.gcf()\n",
    "figure.gca().add_artist(center)\n",
    "plt.rc('font', size = 16)\n",
    "plt.title(\"Amazon Alexa Review Ratings\", size = 24)\n",
    "plt.show()"
   ]
  },
  {
   "cell_type": "markdown",
   "id": "09ab6681",
   "metadata": {},
   "source": [
    "Observation: ~75% of the ratings are a perfect 5/5, and ~90% are at least a 3/5. This suggests people believe the Amazon Alexa is a great product. We will see if the reviews indicate a similar sentiment."
   ]
  },
  {
   "cell_type": "markdown",
   "id": "7e180913",
   "metadata": {},
   "source": [
    "# Part 4: Sentiment Analysis on Reviews"
   ]
  },
  {
   "cell_type": "code",
   "execution_count": 15,
   "id": "5e0b66e1",
   "metadata": {},
   "outputs": [
    {
     "data": {
      "text/html": [
       "<div>\n",
       "<style scoped>\n",
       "    .dataframe tbody tr th:only-of-type {\n",
       "        vertical-align: middle;\n",
       "    }\n",
       "\n",
       "    .dataframe tbody tr th {\n",
       "        vertical-align: top;\n",
       "    }\n",
       "\n",
       "    .dataframe thead th {\n",
       "        text-align: right;\n",
       "    }\n",
       "</style>\n",
       "<table border=\"1\" class=\"dataframe\">\n",
       "  <thead>\n",
       "    <tr style=\"text-align: right;\">\n",
       "      <th></th>\n",
       "      <th>rating</th>\n",
       "      <th>verified_reviews</th>\n",
       "      <th>cleaned_review</th>\n",
       "      <th>Positive</th>\n",
       "      <th>Negative</th>\n",
       "      <th>Neutral</th>\n",
       "    </tr>\n",
       "  </thead>\n",
       "  <tbody>\n",
       "    <tr>\n",
       "      <th>0</th>\n",
       "      <td>5</td>\n",
       "      <td>Love my Echo!</td>\n",
       "      <td>love echo</td>\n",
       "      <td>0.808</td>\n",
       "      <td>0.000</td>\n",
       "      <td>0.192</td>\n",
       "    </tr>\n",
       "    <tr>\n",
       "      <th>1</th>\n",
       "      <td>5</td>\n",
       "      <td>Loved it!</td>\n",
       "      <td>loved</td>\n",
       "      <td>1.000</td>\n",
       "      <td>0.000</td>\n",
       "      <td>0.000</td>\n",
       "    </tr>\n",
       "    <tr>\n",
       "      <th>2</th>\n",
       "      <td>4</td>\n",
       "      <td>Sometimes while playing a game, you can answer...</td>\n",
       "      <td>sometimes playing game answer question correct...</td>\n",
       "      <td>0.201</td>\n",
       "      <td>0.145</td>\n",
       "      <td>0.654</td>\n",
       "    </tr>\n",
       "    <tr>\n",
       "      <th>3</th>\n",
       "      <td>5</td>\n",
       "      <td>I have had a lot of fun with this thing. My 4 ...</td>\n",
       "      <td>lot fun thing 4 yr old learns dinosaurs contro...</td>\n",
       "      <td>0.554</td>\n",
       "      <td>0.000</td>\n",
       "      <td>0.446</td>\n",
       "    </tr>\n",
       "    <tr>\n",
       "      <th>4</th>\n",
       "      <td>5</td>\n",
       "      <td>Music</td>\n",
       "      <td>music</td>\n",
       "      <td>0.000</td>\n",
       "      <td>0.000</td>\n",
       "      <td>1.000</td>\n",
       "    </tr>\n",
       "  </tbody>\n",
       "</table>\n",
       "</div>"
      ],
      "text/plain": [
       "   rating                                   verified_reviews  \\\n",
       "0       5                                      Love my Echo!   \n",
       "1       5                                          Loved it!   \n",
       "2       4  Sometimes while playing a game, you can answer...   \n",
       "3       5  I have had a lot of fun with this thing. My 4 ...   \n",
       "4       5                                              Music   \n",
       "\n",
       "                                      cleaned_review  Positive  Negative  \\\n",
       "0                                          love echo     0.808     0.000   \n",
       "1                                              loved     1.000     0.000   \n",
       "2  sometimes playing game answer question correct...     0.201     0.145   \n",
       "3  lot fun thing 4 yr old learns dinosaurs contro...     0.554     0.000   \n",
       "4                                              music     0.000     0.000   \n",
       "\n",
       "   Neutral  \n",
       "0    0.192  \n",
       "1    0.000  \n",
       "2    0.654  \n",
       "3    0.446  \n",
       "4    1.000  "
      ]
     },
     "execution_count": 15,
     "metadata": {},
     "output_type": "execute_result"
    }
   ],
   "source": [
    "# Add in the Positive, Negative, and Neutral Columns\n",
    "sentiment = SentimentIntensityAnalyzer()\n",
    "df['Positive'] = [sentiments.polarity_scores(i)['pos'] for i in df[\"cleaned_review\"]]\n",
    "df['Negative'] = [sentiments.polarity_scores(i)['neg'] for i in df[\"cleaned_review\"]]\n",
    "df['Neutral'] = [sentiments.polarity_scores(i)['neu'] for i in df[\"cleaned_review\"]]\n",
    "df.head()"
   ]
  },
  {
   "cell_type": "code",
   "execution_count": 16,
   "id": "91284c18",
   "metadata": {},
   "outputs": [
    {
     "name": "stdout",
     "output_type": "stream",
     "text": [
      "Overall, opinions are neutral\n"
     ]
    }
   ],
   "source": [
    "# Create a function that will assess the general opinion of Amazon Alexa\n",
    "a = sum(df[\"Positive\"])\n",
    "b = sum(df[\"Negative\"])\n",
    "c = sum(df[\"Neutral\"])\n",
    "\n",
    "def overall_view(x,y,z):\n",
    "    if (x>y) and (x>z):\n",
    "        print(\"Overall, opinions are positive\")\n",
    "    elif (y>x) and (y>z):\n",
    "        print(\"Overall, opinions are negative\")\n",
    "    else:\n",
    "        print(\"Overall, opinions are neutral\")\n",
    "\n",
    "overall_view(a,b,c)"
   ]
  },
  {
   "cell_type": "code",
   "execution_count": 17,
   "id": "e9b4e040",
   "metadata": {},
   "outputs": [
    {
     "name": "stdout",
     "output_type": "stream",
     "text": [
      "Positive:  1440.4830000000038\n",
      "Negative:  121.452\n",
      "Neutral:  1502.068999999993\n"
     ]
    }
   ],
   "source": [
    "# Observe how many reviews were Positive, Negative, and Neutral\n",
    "print(\"Positive: \", a)\n",
    "print(\"Negative: \", b)\n",
    "print(\"Neutral: \", c)"
   ]
  },
  {
   "cell_type": "code",
   "execution_count": 18,
   "id": "5b184dc1",
   "metadata": {},
   "outputs": [
    {
     "data": {
      "image/png": "[encoded data removed]",
      "text/plain": [
       "<Figure size 864x576 with 1 Axes>"
      ]
     },
     "metadata": {
      "needs_background": "light"
     },
     "output_type": "display_data"
    }
   ],
   "source": [
    "# Create histogram illustrating the number of positive/negative/neutral reviews\n",
    "sentiment_values = [a,b,c]\n",
    "sentiment_types = [\"Positive\", \"Negative\", \"Neutral\"]\n",
    "plt.bar(sentiment_types, sentiment_values, color = 'purple', width = 0.5)\n",
    "plt.title(\"Bar Chart Comparing Tone of Reviews\")\n",
    "plt.ylabel(\"Frequency\")\n",
    "plt.xlabel(\"Tone\")\n",
    "plt.show()"
   ]
  },
  {
   "cell_type": "markdown",
   "id": "4011f676",
   "metadata": {},
   "source": [
    "Observation: It appears that peoples' reviews are split between either being positive or neutral. This suggests that the product is not as perfect as its ratings seem to indicate, and more can be done to improve the product, that of course will require further analysis. However, it is important to note that the low number of negativity about the product is consistent between the reviews and ratings. Also, this analysis demonstrates a flaw of a 1-5 rating system, in that it overgeneralizes how people view a product/thing."
   ]
  },
  {
   "cell_type": "markdown",
   "id": "bcc4019d",
   "metadata": {},
   "source": [
    "# Part 5: Export to Excel for visualizations in Tableau"
   ]
  },
  {
   "cell_type": "code",
   "execution_count": 19,
   "id": "4373fc0f",
   "metadata": {},
   "outputs": [],
   "source": [
    "# Loop over cleaned reviews into list\n",
    "word_l = []\n",
    "for i in range(3150):\n",
    "    s = df['cleaned_review'][i].split(\" \")\n",
    "    for j in s:\n",
    "        word_l.append(j)\n",
    "word_l\n",
    "df2 = pd.DataFrame(word_l)"
   ]
  },
  {
   "cell_type": "code",
   "execution_count": 20,
   "id": "a2f8dab3",
   "metadata": {},
   "outputs": [],
   "source": [
    "# Export data table to Excel\n",
    "import openpyxl\n",
    "\n",
    "df2.to_excel(r'C:\\Users\\msgib\\OneDrive\\Documents\\Data Analysis\\Alexa_Tabelau1.xlsx', index=False)"
   ]
  }
 ],
 "metadata": {
  "kernelspec": {
   "display_name": "Python 3",
   "language": "python",
   "name": "python3"
  },
  "language_info": {
   "codemirror_mode": {
    "name": "ipython",
    "version": 3
   },
   "file_extension": ".py",
   "mimetype": "text/x-python",
   "name": "python",
   "nbconvert_exporter": "python",
   "pygments_lexer": "ipython3",
   "version": "3.8.8"
  }
 },
 "nbformat": 4,
 "nbformat_minor": 5
}
